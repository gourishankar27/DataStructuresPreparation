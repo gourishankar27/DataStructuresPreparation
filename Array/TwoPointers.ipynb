{
 "cells": [
  {
   "cell_type": "markdown",
   "metadata": {},
   "source": [
    "### Arrays\n",
    "\n",
    "Technically, an array can't be resized. A dynamic array, or list, can be. In the context of algorithm problems, usually when people talk about arrays, they are referring to dynamic arrays. In this entire course, we will be talking about dynamic arrays/lists, but we will just use the word \"array\"."
   ]
  },
  {
   "cell_type": "markdown",
   "metadata": {},
   "source": [
    "#### Technique 1: Two Pointers \n",
    "\n",
    "Two pointers is an extremely common technique used to solve array and string problems. \n",
    "It involves having two integer variables that both move along an iterable. \n",
    "Here, we are focusing on arrays and strings. \n",
    "This means we will have two integers, usually named something like i and j, or left and right which each represent an index of the array or string."
   ]
  },
  {
   "cell_type": "code",
   "execution_count": null,
   "metadata": {},
   "outputs": [],
   "source": [
    "'''\n",
    "\n",
    "Here's some pseudocode illustrating the concept:\n",
    "\n",
    "function fn(arr):\n",
    "    left = 0\n",
    "    right = arr.length - 1\n",
    "\n",
    "    while left < right:\n",
    "        Do some logic here depending on the problem\n",
    "        Do some more logic here to decide on one of the following:\n",
    "            1. left++\n",
    "            2. right--\n",
    "            3. Both left++ and right--\n",
    "            \n",
    "'''\n"
   ]
  },
  {
   "cell_type": "markdown",
   "metadata": {},
   "source": [
    "The strength of this technique is that we will never have more than O(n) iterations for the while loop because the pointers start n away from each other and move at least one step closer in every iteration. Therefore, if we can keep the work inside each iteration at O(1), this technique will result in a linear runtime, which is usually the best possible runtime. Let's look at some examples."
   ]
  },
  {
   "cell_type": "code",
   "execution_count": null,
   "metadata": {},
   "outputs": [],
   "source": [
    "'''\n",
    "Example 1: Given a string s, return true if it is a palindrome, false otherwise.\n",
    "\n",
    "A string is a palindrome if it reads the same forward as backward. \n",
    "That means, after reversing it, it is still the same string. \n",
    "For example: \"abcdcba\", or \"racecar\".\n",
    "'''\n",
    "\n",
    "\n"
   ]
  }
 ],
 "metadata": {
  "kernelspec": {
   "display_name": "Python 3 (ipykernel)",
   "language": "python",
   "name": "python3"
  },
  "language_info": {
   "codemirror_mode": {
    "name": "ipython",
    "version": 3
   },
   "file_extension": ".py",
   "mimetype": "text/x-python",
   "name": "python",
   "nbconvert_exporter": "python",
   "pygments_lexer": "ipython3",
   "version": "3.12.4"
  }
 },
 "nbformat": 4,
 "nbformat_minor": 2
}
