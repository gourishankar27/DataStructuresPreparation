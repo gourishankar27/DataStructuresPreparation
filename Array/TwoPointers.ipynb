{
 "cells": [
  {
   "cell_type": "markdown",
   "metadata": {},
   "source": [
    "### Arrays\n",
    "\n",
    "Technically, an array can't be resized. A dynamic array, or list, can be. In the context of algorithm problems, usually when people talk about arrays, they are referring to dynamic arrays. In this entire course, we will be talking about dynamic arrays/lists, but we will just use the word \"array\"."
   ]
  },
  {
   "cell_type": "markdown",
   "metadata": {},
   "source": [
    "#### Technique 1: Two Pointers \n",
    "\n",
    "Two pointers is an extremely common technique used to solve array and string problems. \n",
    "It involves having two integer variables that both move along an iterable. \n",
    "Here, we are focusing on arrays and strings. \n",
    "This means we will have two integers, usually named something like i and j, or left and right which each represent an index of the array or string."
   ]
  },
  {
   "cell_type": "code",
   "execution_count": 75,
   "metadata": {},
   "outputs": [
    {
     "data": {
      "text/plain": [
       "\"\\n\\nHere's some pseudocode illustrating the concept:\\n\\nfunction fn(arr):\\n    left = 0\\n    right = arr.length - 1\\n\\n    while left < right:\\n        Do some logic here depending on the problem\\n        Do some more logic here to decide on one of the following:\\n            1. left++\\n            2. right--\\n            3. Both left++ and right--\\n            \\n\""
      ]
     },
     "execution_count": 75,
     "metadata": {},
     "output_type": "execute_result"
    }
   ],
   "source": [
    "'''\n",
    "\n",
    "Here's some pseudocode illustrating the concept:\n",
    "\n",
    "function fn(arr):\n",
    "    left = 0\n",
    "    right = arr.length - 1\n",
    "\n",
    "    while left < right:\n",
    "        Do some logic here depending on the problem\n",
    "        Do some more logic here to decide on one of the following:\n",
    "            1. left++\n",
    "            2. right--\n",
    "            3. Both left++ and right--\n",
    "            \n",
    "'''\n"
   ]
  },
  {
   "cell_type": "markdown",
   "metadata": {},
   "source": [
    "The strength of this technique is that we will never have more than O(n) iterations for the while loop because the pointers start n away from each other and move at least one step closer in every iteration. Therefore, if we can keep the work inside each iteration at O(1), this technique will result in a linear runtime, which is usually the best possible runtime. Let's look at some examples."
   ]
  },
  {
   "cell_type": "code",
   "execution_count": 76,
   "metadata": {},
   "outputs": [
    {
     "name": "stdout",
     "output_type": "stream",
     "text": [
      "kadak\n",
      "True\n"
     ]
    }
   ],
   "source": [
    "'''\n",
    "Example 1: Given a string s, return true if it is a palindrome, false otherwise.\n",
    "\n",
    "A string is a palindrome if it reads the same forward as backward. \n",
    "That means, after reversing it, it is still the same string. \n",
    "For example: \"abcdcba\", or \"racecar\".\n",
    "'''\n",
    "\n",
    "def is_palindrom(s):\n",
    "\n",
    "    print(s)\n",
    "\n",
    "    first = 0\n",
    "    last = len(s) - 1 \n",
    "\n",
    "    while (first < last):\n",
    "\n",
    "        if (s[first] != s[last]):\n",
    "            return False\n",
    "    \n",
    "        first +=1\n",
    "        last -=1\n",
    "\n",
    "    return True\n",
    "\n",
    "\n",
    "print(is_palindrom('kadak'))\n",
    "\n"
   ]
  },
  {
   "cell_type": "code",
   "execution_count": 77,
   "metadata": {},
   "outputs": [
    {
     "name": "stdout",
     "output_type": "stream",
     "text": [
      "kadak\n",
      "True\n"
     ]
    }
   ],
   "source": [
    "\n",
    "def is_palindrom(s: str) -> bool:\n",
    "\n",
    "    print(s)\n",
    "\n",
    "    first = 0\n",
    "    last = len(s) - 1 \n",
    "\n",
    "    while (first < last):\n",
    "\n",
    "        if (s[first] != s[last]):\n",
    "            return False\n",
    "    \n",
    "        first +=1\n",
    "        last -=1\n",
    "\n",
    "    return True\n",
    "\n",
    "\n",
    "print(is_palindrom('kadak'))\n"
   ]
  },
  {
   "cell_type": "code",
   "execution_count": 78,
   "metadata": {},
   "outputs": [
    {
     "name": "stdout",
     "output_type": "stream",
     "text": [
      "True\n"
     ]
    }
   ],
   "source": [
    "'''\n",
    "\n",
    "Example 2: Given a sorted array of unique integers and a target integer, return true if there exists a pair of numbers that sum to target, false otherwise. \n",
    "This problem is similar to Two Sum. (In Two Sum, the input is not sorted).\n",
    "\n",
    "For example, given nums = [1, 2, 4, 6, 8, 9, 14, 15] and target = 13, return true because 4 + 9 = 13.\n",
    "\n",
    "'''\n",
    "\n",
    "# Here the Two pointer technique only works if the array is sorted. \n",
    "\n",
    "\n",
    "def two_sum_with_sorted_list(nums, target):\n",
    "\n",
    "    first = 0\n",
    "    last = len(nums) - 1\n",
    "\n",
    "    while (first < last):\n",
    "\n",
    "        if ( nums[first] + nums[last] == target ):\n",
    "            return True\n",
    "        elif( nums[first] + nums[last] < target ):\n",
    "            first += 1\n",
    "        elif( nums[first] + nums[last] > target):\n",
    "            last -= 1\n",
    "\n",
    "    return False\n",
    "\n",
    "nums = [1, 2, 4, 6, 8, 9, 14, 15]\n",
    "\n",
    "print(two_sum_with_sorted_list(nums, 3))\n",
    "\n",
    "# This only works if the array is sorted. "
   ]
  },
  {
   "cell_type": "markdown",
   "metadata": {},
   "source": [
    "--------------------------------------------------------------------------------------------------------------------------------------"
   ]
  },
  {
   "cell_type": "markdown",
   "metadata": {},
   "source": [
    "#### Another way to use two pointers\n",
    "This method where we start the pointers at the first and last indices and move them towards each other is only one way to implement two pointers. Algorithms are beautiful because of how abstract they are - \"two pointers\" is just an idea, and it can be implemented in many different ways. Let's look at another method and some new examples. The following method is applicable when the problem has two iterables in the input, for example, two arrays.\n",
    "\n",
    "    Move along both inputs simultaneously until all elements have been checked.\n",
    "\n",
    "Converting this idea into instructions:\n",
    "\n",
    "1. Create two pointers, one for each iterable. Each pointer should start at the first index.\n",
    "\n",
    "2. Use a while loop until one of the pointers reaches the end of its iterable.\n",
    "\n",
    "3. At each iteration of the loop, move the pointers forward. This means incrementing either one of the pointers or both of the pointers. Deciding which pointers to move will depend on the problem we are trying to solve.\n",
    "\n",
    "4. Because our while loop will stop when one of the pointers reaches the end, the other pointer will not be at the end of its respective iterable when the loop finishes. Sometimes, we need to iterate through all elements - if this is the case, you will need to write extra code here to make sure both iterables are exhausted."
   ]
  },
  {
   "cell_type": "code",
   "execution_count": 79,
   "metadata": {},
   "outputs": [
    {
     "data": {
      "text/plain": [
       "\"\\n\\n# Here's some pseudocode illustrating the concept:\\n\\nfunction fn(arr1, arr2):\\n    i = j = 0\\n    while i < arr1.length AND j < arr2.length:\\n        Do some logic here depending on the problem\\n        Do some more logic here to decide on one of the following:\\n            1. i++\\n            2. j++\\n            3. Both i++ and j++\\n\\n    // Step 4: make sure both iterables are exhausted\\n    // Note that only one of these loops would run\\n    while i < arr1.length:\\n        Do some logic here depending on the problem\\n        i++\\n\\n    while j < arr2.length:\\n        Do some logic here depending on the problem\\n        j++\\n\\n\""
      ]
     },
     "execution_count": 79,
     "metadata": {},
     "output_type": "execute_result"
    }
   ],
   "source": [
    "'''\n",
    "\n",
    "# Here's some pseudocode illustrating the concept:\n",
    "\n",
    "function fn(arr1, arr2):\n",
    "    i = j = 0\n",
    "    while i < arr1.length AND j < arr2.length:\n",
    "        Do some logic here depending on the problem\n",
    "        Do some more logic here to decide on one of the following:\n",
    "            1. i++\n",
    "            2. j++\n",
    "            3. Both i++ and j++\n",
    "\n",
    "    // Step 4: make sure both iterables are exhausted\n",
    "    // Note that only one of these loops would run\n",
    "    while i < arr1.length:\n",
    "        Do some logic here depending on the problem\n",
    "        i++\n",
    "\n",
    "    while j < arr2.length:\n",
    "        Do some logic here depending on the problem\n",
    "        j++\n",
    "\n",
    "'''"
   ]
  },
  {
   "cell_type": "code",
   "execution_count": 80,
   "metadata": {},
   "outputs": [
    {
     "name": "stdout",
     "output_type": "stream",
     "text": [
      "[1]\n",
      "[1, 3]\n",
      "[1, 3, 4]\n",
      "[1, 3, 4, 5]\n",
      "[1, 3, 4, 5, 6]\n",
      "Ok, one of the array has exhausted, now appending the remaining array. \n",
      "[1, 3, 4, 5, 6, 7]\n",
      "[1, 3, 4, 5, 6, 7, 20]\n",
      "\n",
      "Final Array :  [1, 3, 4, 5, 6, 7, 20]\n"
     ]
    }
   ],
   "source": [
    "'''\n",
    "Example 3: Given two sorted integer arrays arr1 and arr2, return a new array that combines both of them and is also sorted.\n",
    "\n",
    "arr1 = [1, 4, 7, 20]\n",
    "arr2 = [3, 5, 6]\n",
    "\n",
    "'''\n",
    "import time\n",
    "\n",
    "def resort_arrays( arr1, arr2 ):\n",
    "\n",
    "    i = j = 0\n",
    "\n",
    "    new_combined_sorted_list = []\n",
    "\n",
    "    while( i < len(arr1) and j < len(arr2) ):\n",
    "\n",
    "        if (arr1[i] < arr2[j]):\n",
    "            new_combined_sorted_list.append(arr1[i])\n",
    "            i += 1\n",
    "\n",
    "        elif (arr1[i] > arr2[j]):\n",
    "            new_combined_sorted_list.append(arr2[j])\n",
    "            j += 1 \n",
    "\n",
    "        time.sleep(1)\n",
    "        print(new_combined_sorted_list)\n",
    "        \n",
    "    print(\"Ok, one of the array has exhausted, now appending the remaining array. \")\n",
    "        \n",
    "    while (i <  len(arr1)):\n",
    "        new_combined_sorted_list.append(arr1[i])\n",
    "        i += 1\n",
    "        time.sleep(1)\n",
    "        print(new_combined_sorted_list)\n",
    "\n",
    "    while (j <  len(arr2)):\n",
    "        new_combined_sorted_list.append(arr2[j])\n",
    "        j += 1\n",
    "        time.sleep(1)\n",
    "        print(new_combined_sorted_list)\n",
    "\n",
    "    return new_combined_sorted_list\n",
    "\n",
    "\n",
    "arr1 = [1, 4, 7, 20]\n",
    "arr2 = [3, 5, 6]\n",
    "\n",
    "print(\"\\nFinal Array : \", resort_arrays(arr1, arr2))\n",
    "\n"
   ]
  },
  {
   "cell_type": "code",
   "execution_count": 81,
   "metadata": {},
   "outputs": [
    {
     "name": "stdout",
     "output_type": "stream",
     "text": [
      "for main_s = 'abcde' and sub_s = 'ace' -> True\n",
      "for main_s = 'abcde' and sub_s = 'ace' -> False\n"
     ]
    }
   ],
   "source": [
    "'''\n",
    "Example 4: 392. Is Subsequence.\n",
    "\n",
    "Given two strings s and t, return true if s is a subsequence of t, or false otherwise.\n",
    "\n",
    "A subsequence of a string is a sequence of characters that can be obtained \n",
    "by deleting some (or none) of the characters from the original string, \n",
    "while maintaining the relative order of the remaining characters. \n",
    "\n",
    "For example, \"ace\" is a subsequence of \"abcde\" while \"aec\" is not.\n",
    "\n",
    "'''\n",
    "\n",
    "import time\n",
    "\n",
    "def sub_sequence(main_s, sub_s):\n",
    "\n",
    "    i = j = 0\n",
    "\n",
    "    while i < len(main_s) and j < len(sub_s):\n",
    "\n",
    "        # print(f\" main : {main_s[i]} , sub : {sub_s[j]}\")\n",
    "        if main_s[i] == sub_s[j]:\n",
    "            i += 1\n",
    "            j += 1\n",
    "        else:\n",
    "            i += 1\n",
    "\n",
    "        # time.sleep(1) # For debugging\n",
    "\n",
    "    # print(f\" j : {j} < len(sub_s) : {len(sub_s)}\")\n",
    "    if j == len(sub_s):\n",
    "        return True \n",
    "    else: \n",
    "        return False\n",
    "\n",
    "\n",
    "\n",
    "\n",
    "print(f\"for main_s = 'abcde' and sub_s = 'ace' -> {sub_sequence('abcde', 'ace')}\")\n",
    "print(f\"for main_s = 'abcde' and sub_s = 'ace' -> {sub_sequence('abcde', 'aec')}\")\n"
   ]
  },
  {
   "cell_type": "code",
   "execution_count": null,
   "metadata": {},
   "outputs": [],
   "source": []
  },
  {
   "cell_type": "markdown",
   "metadata": {},
   "source": [
    "Remember that the methods laid out here are just guidelines. For example, in the first method, we started the pointers at the first and last index, but sometimes you might find a problem that involves starting the pointers at different indices. In the second method, we moved two pointers forward along two different inputs. Sometimes, there will only be one input array/string, but we still initialize both pointers at the first index and move both of them forward.\n",
    "\n",
    "    Two pointers just refers to using two integer variables to move along some iterables. The strategies we looked at in this article are the most common patterns, but always be on the lookout for a different way to approach a problem. There are even problems that make use of \"three pointers\".\n",
    "\n"
   ]
  },
  {
   "cell_type": "markdown",
   "metadata": {},
   "source": []
  },
  {
   "cell_type": "code",
   "execution_count": 82,
   "metadata": {},
   "outputs": [
    {
     "name": "stdout",
     "output_type": "stream",
     "text": [
      "['h', 'a', 'n', 'n', 'a', 'H']\n"
     ]
    }
   ],
   "source": [
    "'''\n",
    "Write a function that reverses a string. The input string is given as an array of characters s.\n",
    "\n",
    "You must do this by modifying the input array in-place with O(1) extra memory.\n",
    "\n",
    "\n",
    "Example 1:\n",
    "\n",
    "Input: \n",
    "s = [\"h\",\"e\",\"l\",\"l\",\"o\"]\n",
    "Output: \n",
    "[\"o\",\"l\",\"l\",\"e\",\"h\"]\n",
    "\n",
    "\n",
    "Example 2:\n",
    "\n",
    "Input: \n",
    "s = [\"H\",\"a\",\"n\",\"n\",\"a\",\"h\"]\n",
    "Output: \n",
    "[\"h\",\"a\",\"n\",\"n\",\"a\",\"H\"]\n",
    " \n",
    "\n",
    "\n",
    "Constraints:\n",
    "\n",
    "1 <= s.length <= 105\n",
    "s[i] is a printable ascii character.\n",
    "\n",
    "'''\n",
    "\n",
    "\n",
    "def reverseString(s) -> None:\n",
    "\n",
    "    first = 0\n",
    "    last = len(s) - 1\n",
    "\n",
    "    while first < last:\n",
    "\n",
    "        s[first], s[last] = s[last], s[first]\n",
    "\n",
    "        first += 1\n",
    "        last -= 1\n",
    "\n",
    "    print(s)\n",
    "\n",
    "# s = [\"h\",\"e\",\"l\",\"l\",\"o\"]\n",
    "\n",
    "s = [\"H\",\"a\",\"n\",\"n\",\"a\",\"h\"]\n",
    "reverseString(s)\n",
    "\n",
    "     \n",
    "        \n",
    "\n",
    "\n",
    "    \n"
   ]
  },
  {
   "cell_type": "code",
   "execution_count": 83,
   "metadata": {},
   "outputs": [
    {
     "name": "stdout",
     "output_type": "stream",
     "text": [
      "[4]\n",
      "[4, 9]\n",
      "[4, 9, 9]\n",
      "[4, 9, 9, 49]\n",
      "[4, 9, 9, 49, 121]\n"
     ]
    }
   ],
   "source": [
    "'''\n",
    "\n",
    "Given an integer array nums sorted in non-decreasing order, return an array of the squares of each number sorted in non-decreasing order.\n",
    "\n",
    "\n",
    "Example 1:\n",
    "\n",
    "Input: nums = [-4,-1,0,3,10]\n",
    "Output: [0,1,9,16,100]\n",
    "Explanation: After squaring, the array becomes [16,1,0,9,100].\n",
    "After sorting, it becomes [0,1,9,16,100].\n",
    "\n",
    "\n",
    "Example 2:\n",
    "\n",
    "Input: nums = [-7,-3,2,3,11]\n",
    "Output: [4,9,9,49,121]\n",
    " \n",
    "\n",
    "Constraints:\n",
    "\n",
    "1 <= nums.length <= 104\n",
    "-104 <= nums[i] <= 104\n",
    "nums is sorted in non-decreasing order.\n",
    " \n",
    "\n",
    "Follow up: Squaring each element and sorting the new array is very trivial, could you find an O(n) solution using a different approach?\n",
    "\n",
    "'''\n",
    "\n",
    "\n",
    "import time\n",
    "\n",
    "def squared_sorted( nums ):\n",
    "\n",
    "    combined_squared_sorted_list = []\n",
    "    i = 0\n",
    "    j = -1\n",
    "\n",
    "    while (i < len(nums)): \n",
    "        \n",
    "        if(nums[i] < 0):\n",
    "            j+=1\n",
    "            i+=1\n",
    "\n",
    "            time.sleep(1)\n",
    "        else: \n",
    "            time.sleep(1)\n",
    "            if(j >= 0):\n",
    "                \n",
    "                if nums[i]**2 <= nums[j]**2:\n",
    "                    combined_squared_sorted_list.append(nums[i]**2)\n",
    "                    i += 1\n",
    "                    \n",
    "                    print(combined_squared_sorted_list)\n",
    "\n",
    "                elif nums[j]**2 <= nums[i]**2:\n",
    "                    combined_squared_sorted_list.append(nums[j]**2)\n",
    "                    j -= 1\n",
    "\n",
    "                    print(combined_squared_sorted_list)\n",
    "\n",
    "            else: \n",
    "                break\n",
    "    \n",
    "    while j >= 0:\n",
    "        combined_squared_sorted_list.append(nums[j]**2)\n",
    "        j -= 1\n",
    "\n",
    "        time.sleep(1)\n",
    "\n",
    "    while i < len(nums):\n",
    "        combined_squared_sorted_list.append(nums[i]**2)\n",
    "        i += 1\n",
    "\n",
    "        time.sleep(1)\n",
    "\n",
    "    print(combined_squared_sorted_list)\n",
    "\n",
    "nums = [-7,-3,2,3,11]\n",
    "squared_sorted(nums)\n"
   ]
  },
  {
   "cell_type": "code",
   "execution_count": 84,
   "metadata": {},
   "outputs": [
    {
     "name": "stdout",
     "output_type": "stream",
     "text": [
      "[0, 1, 9, 16, 100]\n"
     ]
    }
   ],
   "source": [
    "def squared_sorted( nums ):\n",
    "\n",
    "    combined_squared_sorted_list = []\n",
    "    i = 0\n",
    "    j = -1\n",
    "\n",
    "    while (i < len(nums)): \n",
    "        if(nums[i] < 0):\n",
    "            j+=1\n",
    "            i+=1\n",
    "        else: \n",
    "            if(j >= 0):\n",
    "                if nums[i]**2 <= nums[j]**2:\n",
    "                    combined_squared_sorted_list.append(nums[i]**2)\n",
    "                    i += 1\n",
    "                elif nums[j]**2 <= nums[i]**2:\n",
    "                    combined_squared_sorted_list.append(nums[j]**2)\n",
    "                    j -= 1\n",
    "\n",
    "            else: \n",
    "                break\n",
    "    \n",
    "    while j >= 0:\n",
    "        combined_squared_sorted_list.append(nums[j]**2)\n",
    "        j -= 1\n",
    "\n",
    "    while i < len(nums):\n",
    "        combined_squared_sorted_list.append(nums[i]**2)\n",
    "        i += 1\n",
    "\n",
    "    return combined_squared_sorted_list\n",
    "\n",
    "# nums = [-7,-3,2,3,11]\n",
    "nums = [-4,-1,0,3,10]\n",
    "print(squared_sorted(nums))"
   ]
  },
  {
   "cell_type": "code",
   "execution_count": null,
   "metadata": {},
   "outputs": [],
   "source": []
  }
 ],
 "metadata": {
  "kernelspec": {
   "display_name": "Python 3 (ipykernel)",
   "language": "python",
   "name": "python3"
  },
  "language_info": {
   "codemirror_mode": {
    "name": "ipython",
    "version": 3
   },
   "file_extension": ".py",
   "mimetype": "text/x-python",
   "name": "python",
   "nbconvert_exporter": "python",
   "pygments_lexer": "ipython3",
   "version": "3.12.4"
  }
 },
 "nbformat": 4,
 "nbformat_minor": 2
}
