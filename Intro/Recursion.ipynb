{
 "cells": [
  {
   "cell_type": "markdown",
   "metadata": {},
   "source": [
    "# Recursion\n",
    "\n",
    "Recursion is a programming technique where a function calls itself to solve a problem. This approach is used to break down complex problems into smaller, more manageable subproblems. Each recursive function must have:\n",
    "\n",
    "#### 1. Base Case:  \n",
    "condition where the recursion stops to prevent infinite calls.\n",
    "\n",
    "#### 2. Recursive Case: \n",
    "A way to call itself with a smaller problem."
   ]
  },
  {
   "cell_type": "markdown",
   "metadata": {},
   "source": [
    "'''\n",
    "function fn(i):\n",
    "1.  if i > 3:\n",
    "2.    return\n",
    "\n",
    "3.  print(i)\n",
    "4.  fn(i + 1)\n",
    "5.  print(f\"End of call where i = {i}\")\n",
    "6.  return\n",
    "\n",
    "fn(1)\n",
    "\n",
    "'''"
   ]
  },
  {
   "cell_type": "code",
   "execution_count": 69,
   "metadata": {},
   "outputs": [
    {
     "name": "stdout",
     "output_type": "stream",
     "text": [
      " loop :  1\n",
      " loop :  2\n",
      " loop :  3\n",
      "End of call where i = 3\n",
      "End of call where i = 2\n",
      "End of call where i = 1\n"
     ]
    }
   ],
   "source": [
    "def function(i):\n",
    "\n",
    "    # This will act as a break point for the recusion loops. \n",
    "    # Whenever the counter reaches the 3 the recursion loop will break. \n",
    "    if ( i > 3):\n",
    "        return \n",
    "\n",
    "    print(\" loop : \", i)\n",
    "\n",
    "    function(i + 1)\n",
    "\n",
    "    print(f\"End of call where i = {i}\")\n",
    "\n",
    "    return    \n",
    "\n",
    "function(1)"
   ]
  },
  {
   "cell_type": "markdown",
   "metadata": {},
   "source": [
    "#### Example 1: Factorial\n",
    "\n",
    "The factorial of 5 is 5 x 4 x 3 x 2 x 1\n",
    "\n",
    "n! = n x (n - 1)!\n",
    "\n",
    "similarlly, \n",
    "\n",
    "n! = n x (n - 1) x (n - 2)!\n"
   ]
  },
  {
   "cell_type": "code",
   "execution_count": 70,
   "metadata": {},
   "outputs": [
    {
     "name": "stdout",
     "output_type": "stream",
     "text": [
      " Factorial of 0 is 1\n",
      " Factorial of 1 is 1\n",
      " Factorial of 2 is 2\n",
      " Factorial of 3 is 6\n",
      " Factorial of 4 is 24\n",
      " Factorial of 5 is 120\n",
      " Factorial of 6 is 720\n",
      " Factorial of 7 is 5040\n",
      " Factorial of 8 is 40320\n",
      " Factorial of 9 is 362880\n"
     ]
    }
   ],
   "source": [
    "def factorial(n):\n",
    "    '''\n",
    "\n",
    "    How It Works:\n",
    "\n",
    "    factorial(5)= 5 * factorial(4)\n",
    "\n",
    "    factorial(4)= 4 * factorial(3)\n",
    "\n",
    "    factorial(3)= 3 * factorial(2)\n",
    "\n",
    "    factorial(2)= 2 * factorial(1)\n",
    "\n",
    "    factorial(1)= 1 * factorial(0)\n",
    "\n",
    "    factorial(0)= 1 (Base case)\n",
    "\n",
    "    '''\n",
    "\n",
    "    if n == 0:\n",
    "        # print(\"End of Recursion!!\")\n",
    "        return 1\n",
    "\n",
    "    # print(f\" n : {n}\")\n",
    "\n",
    "    return n * factorial(n - 1)\n",
    "\n",
    "for i in range(0,10):\n",
    "    print(f\" Factorial of {i} is {factorial(i)}\")\n",
    "\n"
   ]
  },
  {
   "cell_type": "markdown",
   "metadata": {},
   "source": [
    "#### Example 2: Fibonacci Number\n"
   ]
  },
  {
   "cell_type": "code",
   "execution_count": 71,
   "metadata": {},
   "outputs": [
    {
     "name": "stdout",
     "output_type": "stream",
     "text": [
      "0\n",
      "1\n",
      "1\n",
      "2\n",
      "3\n",
      "5\n",
      "8\n",
      "13\n",
      "21\n",
      "34\n",
      "55\n",
      "89\n",
      "144\n",
      "233\n",
      "377\n",
      "610\n",
      "987\n",
      "1597\n",
      "2584\n",
      "4181\n"
     ]
    }
   ],
   "source": [
    "\"\"\"\n",
    "function F(n):\n",
    "    if n <= 1:\n",
    "        return n\n",
    "\n",
    "    oneBack = F(n - 1)\n",
    "    twoBack = F(n - 2)\n",
    "    return oneBack + twoBack\n",
    "\"\"\"\n",
    "\n",
    "\n",
    "def fibonacci(n):\n",
    "\n",
    "    if n <= 1:\n",
    "        return n\n",
    "    \n",
    "    one_back = fibonacci(n - 1)\n",
    "    two_back = fibonacci(n - 2)\n",
    "\n",
    "    return one_back + two_back\n",
    "\n",
    "for i in range(0,20):\n",
    "    print(fibonacci(i))"
   ]
  },
  {
   "cell_type": "markdown",
   "metadata": {},
   "source": [
    "#### Example 3: Solving the Tower of Hanoi\n",
    "\n"
   ]
  },
  {
   "cell_type": "code",
   "execution_count": 72,
   "metadata": {},
   "outputs": [
    {
     "name": "stdout",
     "output_type": "stream",
     "text": [
      "Move disk 1 from A to C\n",
      "Move disk 2 from A to B\n",
      "Move disk 1 from C to B\n",
      "Move disk 3 from A to C\n",
      "Move disk 1 from B to A\n",
      "Move disk 2 from B to C\n",
      "Move disk 1 from A to C\n"
     ]
    }
   ],
   "source": [
    "def tower_of_hanoi(n, source, target, auxiliary):\n",
    "    if n == 1:  # Base case\n",
    "        print(f\"Move disk 1 from {source} to {target}\")\n",
    "        return\n",
    "    # Step 1: Move n-1 disks from source to auxiliary\n",
    "    tower_of_hanoi(n-1, source, auxiliary, target)\n",
    "    # Step 2: Move nth disk from source to target\n",
    "    print(f\"Move disk {n} from {source} to {target}\")\n",
    "    # Step 3: Move n-1 disks from auxiliary to target\n",
    "    tower_of_hanoi(n-1, auxiliary, target, source)\n",
    "\n",
    "# Example usage\n",
    "tower_of_hanoi(3, 'A', 'C', 'B')\n"
   ]
  },
  {
   "cell_type": "code",
   "execution_count": null,
   "metadata": {},
   "outputs": [],
   "source": []
  }
 ],
 "metadata": {
  "kernelspec": {
   "display_name": "Python 3 (ipykernel)",
   "language": "python",
   "name": "python3"
  },
  "language_info": {
   "codemirror_mode": {
    "name": "ipython",
    "version": 3
   },
   "file_extension": ".py",
   "mimetype": "text/x-python",
   "name": "python",
   "nbconvert_exporter": "python",
   "pygments_lexer": "ipython3",
   "version": "3.12.4"
  }
 },
 "nbformat": 4,
 "nbformat_minor": 2
}
